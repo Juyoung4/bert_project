{
 "cells": [
  {
   "cell_type": "code",
   "execution_count": 1,
   "metadata": {},
   "outputs": [],
   "source": [
    "import tensorflow as tf"
   ]
  },
  {
   "cell_type": "code",
   "execution_count": 2,
   "metadata": {},
   "outputs": [],
   "source": [
    "def split_tfrecord(tfrecord_path, split_size):\n",
    "    with tf.Graph().as_default(), tf.Session() as sess:\n",
    "        ds = tf.data.TFRecordDataset(tfrecord_path).batch(split_size)\n",
    "        batch = ds.make_one_shot_iterator().get_next()\n",
    "        part_num = 0\n",
    "        while True:\n",
    "            try:\n",
    "                records = sess.run(batch)\n",
    "                part_path = tfrecord_path + '.{:03d}'.format(part_num)\n",
    "                with tf.python_io.TFRecordWriter(part_path) as writer:\n",
    "                    for record in records:\n",
    "                        writer.write(record)\n",
    "                part_num += 1\n",
    "            except tf.errors.OutOfRangeError: break"
   ]
  },
  {
   "cell_type": "code",
   "execution_count": 4,
   "metadata": {},
   "outputs": [],
   "source": [
    "path = 'rsc/preprocessed_training_data/mecab_tf_{}.record'.format(0)\n",
    "split_tfrecord(path, 100000)"
   ]
  },
  {
   "cell_type": "code",
   "execution_count": null,
   "metadata": {},
   "outputs": [],
   "source": []
  }
 ],
 "metadata": {
  "kernelspec": {
   "display_name": "Python 3",
   "language": "python",
   "name": "python3"
  },
  "language_info": {
   "codemirror_mode": {
    "name": "ipython",
    "version": 3
   },
   "file_extension": ".py",
   "mimetype": "text/x-python",
   "name": "python",
   "nbconvert_exporter": "python",
   "pygments_lexer": "ipython3",
   "version": "3.7.6"
  }
 },
 "nbformat": 4,
 "nbformat_minor": 4
}
